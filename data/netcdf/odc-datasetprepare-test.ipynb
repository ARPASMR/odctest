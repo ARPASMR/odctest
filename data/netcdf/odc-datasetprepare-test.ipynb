{
 "cells": [
  {
   "cell_type": "code",
   "execution_count": 6,
   "id": "81d535a5",
   "metadata": {},
   "outputs": [
    {
     "ename": "ValueError",
     "evalue": "A string location is expected to be a URL or VSI path. Perhaps you want to give it as a local pathlib.Path()?",
     "output_type": "error",
     "traceback": [
      "\u001b[0;31m---------------------------------------------------------------------------\u001b[0m",
      "\u001b[0;31mValueError\u001b[0m                                Traceback (most recent call last)",
      "Input \u001b[0;32mIn [6]\u001b[0m, in \u001b[0;36m<cell line: 5>\u001b[0;34m()\u001b[0m\n\u001b[1;32m      3\u001b[0m netcdf_path \u001b[38;5;241m=\u001b[39m collection_data_path\n\u001b[1;32m      4\u001b[0m metadata_path \u001b[38;5;241m=\u001b[39m netcdf_path \u001b[38;5;241m+\u001b[39m \u001b[38;5;124m'\u001b[39m\u001b[38;5;124m/odc-datasetprepare-no-zeta.yaml\u001b[39m\u001b[38;5;124m'\u001b[39m\n\u001b[0;32m----> 5\u001b[0m \u001b[38;5;28;01mwith\u001b[39;00m \u001b[43mDatasetPrepare\u001b[49m\u001b[43m(\u001b[49m\n\u001b[1;32m      6\u001b[0m \u001b[43m    \u001b[49m\u001b[43mmetadata_path\u001b[49m\u001b[38;5;241;43m=\u001b[39;49m\u001b[43mnetcdf_path\u001b[49m\u001b[43m \u001b[49m\u001b[38;5;241;43m+\u001b[39;49m\u001b[43m \u001b[49m\u001b[38;5;124;43m'\u001b[39;49m\u001b[38;5;124;43m/odc-datasetprepare-no-zeta.yaml\u001b[39;49m\u001b[38;5;124;43m'\u001b[39;49m\n\u001b[1;32m      7\u001b[0m \u001b[43m)\u001b[49m \u001b[38;5;28;01mas\u001b[39;00m p:\n\u001b[1;32m      8\u001b[0m     p\u001b[38;5;241m.\u001b[39mproduct_family \u001b[38;5;241m=\u001b[39m \u001b[38;5;124m\"\u001b[39m\u001b[38;5;124mc_o3\u001b[39m\u001b[38;5;124m\"\u001b[39m\n\u001b[1;32m      9\u001b[0m     p\u001b[38;5;241m.\u001b[39mdatetime \u001b[38;5;241m=\u001b[39m datetime(\u001b[38;5;241m2015\u001b[39m, \u001b[38;5;241m4\u001b[39m, \u001b[38;5;241m10\u001b[39m, \u001b[38;5;241m2\u001b[39m, \u001b[38;5;241m0\u001b[39m, \u001b[38;5;241m0\u001b[39m)\n",
      "File \u001b[0;32m~/anaconda3/envs/odc_env/lib/python3.8/site-packages/eodatasets3/assemble.py:417\u001b[0m, in \u001b[0;36mDatasetPrepare.__init__\u001b[0;34m(self, collection_location, dataset_location, metadata_path, dataset_id, allow_absolute_paths, naming_conventions, names, dataset)\u001b[0m\n\u001b[1;32m    415\u001b[0m     \u001b[38;5;28mself\u001b[39m\u001b[38;5;241m.\u001b[39mnames\u001b[38;5;241m.\u001b[39mdataset_location \u001b[38;5;241m=\u001b[39m resolve_location(dataset_location)\n\u001b[1;32m    416\u001b[0m \u001b[38;5;28;01mif\u001b[39;00m metadata_path:\n\u001b[0;32m--> 417\u001b[0m     \u001b[38;5;28mself\u001b[39m\u001b[38;5;241m.\u001b[39mnames\u001b[38;5;241m.\u001b[39mmetadata_file \u001b[38;5;241m=\u001b[39m \u001b[43mresolve_location\u001b[49m\u001b[43m(\u001b[49m\u001b[43mmetadata_path\u001b[49m\u001b[43m)\u001b[49m\n\u001b[1;32m    419\u001b[0m has_collection_location \u001b[38;5;241m=\u001b[39m \u001b[38;5;28mself\u001b[39m\u001b[38;5;241m.\u001b[39mnames\u001b[38;5;241m.\u001b[39mcollection_prefix \u001b[38;5;129;01mis\u001b[39;00m \u001b[38;5;129;01mnot\u001b[39;00m \u001b[38;5;28;01mNone\u001b[39;00m\n\u001b[1;32m    420\u001b[0m \u001b[38;5;28;01mtry\u001b[39;00m:\n",
      "File \u001b[0;32m~/anaconda3/envs/odc_env/lib/python3.8/site-packages/eodatasets3/names.py:442\u001b[0m, in \u001b[0;36mresolve_location\u001b[0;34m(path)\u001b[0m\n\u001b[1;32m    440\u001b[0m \u001b[38;5;28;01mif\u001b[39;00m \u001b[38;5;28misinstance\u001b[39m(path, \u001b[38;5;28mstr\u001b[39m):\n\u001b[1;32m    441\u001b[0m     \u001b[38;5;28;01mif\u001b[39;00m \u001b[38;5;129;01mnot\u001b[39;00m dc_uris\u001b[38;5;241m.\u001b[39mis_url(path) \u001b[38;5;129;01mand\u001b[39;00m \u001b[38;5;129;01mnot\u001b[39;00m dc_uris\u001b[38;5;241m.\u001b[39mis_vsipath(path):\n\u001b[0;32m--> 442\u001b[0m         \u001b[38;5;28;01mraise\u001b[39;00m \u001b[38;5;167;01mValueError\u001b[39;00m(\n\u001b[1;32m    443\u001b[0m             \u001b[38;5;124m\"\u001b[39m\u001b[38;5;124mA string location is expected to be a URL or VSI path. \u001b[39m\u001b[38;5;124m\"\u001b[39m\n\u001b[1;32m    444\u001b[0m             \u001b[38;5;124m\"\u001b[39m\u001b[38;5;124mPerhaps you want to give it as a local pathlib.Path()?\u001b[39m\u001b[38;5;124m\"\u001b[39m\n\u001b[1;32m    445\u001b[0m         )\n\u001b[1;32m    446\u001b[0m     \u001b[38;5;28;01mreturn\u001b[39;00m path\n\u001b[1;32m    448\u001b[0m path \u001b[38;5;241m=\u001b[39m dc_uris\u001b[38;5;241m.\u001b[39mnormalise_path(path)\n",
      "\u001b[0;31mValueError\u001b[0m: A string location is expected to be a URL or VSI path. Perhaps you want to give it as a local pathlib.Path()?"
     ]
    }
   ],
   "source": [
    "from eodatasets3 import DatasetPrepare\n",
    "collection_data_path = '/home/buck/dev/odc/data/netcdf'\n",
    "netcdf_path = collection_data_path\n",
    "metadata_path = netcdf_path + '/odc-datasetprepare-no-zeta.yaml'\n",
    "with DatasetPrepare(\n",
    "    metadata_path=netcdf_path + '/odc-datasetprepare-no-zeta.yaml'\n",
    ") as p:\n",
    "    p.product_family = \"c_o3\"\n",
    "    p.datetime = datetime(2015, 4, 10, 2, 0, 0)\n",
    "    p.processed_now()\n",
    "\n",
    "    # Note the measurement in the metadata. (instead of ``write``)\n",
    "    p.note_measurement('co3',\n",
    "       netcdf_path + '/test_no_zeta.nc'\n",
    "    )\n",
    "\n",
    "    # Or give the path relative to the dataset location\n",
    "    # (eg. This will work unchanged on non-filesystem locations, such as ``s3://`` or tar files)\n",
    "    # p.note_measurement('blue',\n",
    "    #    'LC08_L1TP_090084_20160121_20170405_01_T1_B2.TIF',\n",
    "    #    relative_to_dataset_location=True\n",
    "    # )\n",
    "\n",
    "    # Add links to other files included in the package (\"accessories\"), such as\n",
    "    # alternative metadata files.\n",
    "    # [mtl_path] = usgs_level1.glob('*_MTL.txt')\n",
    "    # p.note_accessory_file('metadata:mtl', mtl_path)\n",
    "\n",
    "    # Add whatever else you want.\n",
    "    ...\n",
    "\n",
    "    # Validate and write our metadata document!\n",
    "    p.done()\n",
    "\n",
    "# We created a metadata file!\n",
    "assert metadata_path.exists()\n"
   ]
  },
  {
   "cell_type": "code",
   "execution_count": null,
   "id": "2d2b9d7e",
   "metadata": {},
   "outputs": [],
   "source": []
  }
 ],
 "metadata": {
  "kernelspec": {
   "display_name": "Python 3 (ipykernel)",
   "language": "python",
   "name": "python3"
  },
  "language_info": {
   "codemirror_mode": {
    "name": "ipython",
    "version": 3
   },
   "file_extension": ".py",
   "mimetype": "text/x-python",
   "name": "python",
   "nbconvert_exporter": "python",
   "pygments_lexer": "ipython3",
   "version": "3.8.13"
  }
 },
 "nbformat": 4,
 "nbformat_minor": 5
}
