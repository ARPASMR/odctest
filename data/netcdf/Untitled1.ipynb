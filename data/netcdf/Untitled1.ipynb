{
 "cells": [
  {
   "cell_type": "code",
   "execution_count": 3,
   "id": "e61d0da7",
   "metadata": {},
   "outputs": [],
   "source": [
    "import rasterio\n",
    "src = rasterio.open('/home/buck/dev/odc/data/netcdf/test_no_zeta_crs.nc')\n",
    "src.crs\n"
   ]
  },
  {
   "cell_type": "code",
   "execution_count": null,
   "id": "4dba6f23",
   "metadata": {},
   "outputs": [],
   "source": []
  }
 ],
 "metadata": {
  "kernelspec": {
   "display_name": "Python 3 (ipykernel)",
   "language": "python",
   "name": "python3"
  },
  "language_info": {
   "codemirror_mode": {
    "name": "ipython",
    "version": 3
   },
   "file_extension": ".py",
   "mimetype": "text/x-python",
   "name": "python",
   "nbconvert_exporter": "python",
   "pygments_lexer": "ipython3",
   "version": "3.8.13"
  }
 },
 "nbformat": 4,
 "nbformat_minor": 5
}
