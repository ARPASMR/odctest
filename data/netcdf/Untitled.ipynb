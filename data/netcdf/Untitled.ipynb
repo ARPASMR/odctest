{
 "cells": [
  {
   "cell_type": "code",
   "execution_count": 12,
   "id": "1896a90c",
   "metadata": {
    "scrolled": false
   },
   "outputs": [
    {
     "name": "stdout",
     "output_type": "stream",
     "text": [
      "\n",
      "***** DATASETS\n",
      "[Dataset <id=94cf3426-6200-44c8-b1b2-f4e37e850791 product=c_o3_no_z location=file:///home/buck/dev/odc/data/netcdf/c_O3_dataset.odc-metadata.yaml>]\n",
      "\n",
      "***** MY DATASET\n",
      "Dataset <id=94cf3426-6200-44c8-b1b2-f4e37e850791 product=c_o3_no_z location=file:///home/buck/dev/odc/data/netcdf/c_O3_dataset.odc-metadata.yaml>\n",
      "\n",
      "***** PRODUCTS\n",
      "[{'name': 'c_o3_no_z', 'description': 'ARPA Ozone cover.', 'license': None, 'default_crs': CRS('EPSG:32632'), 'default_resolution': (4000.0, 4000.0), 'dataset_count': 1}]\n",
      "\n",
      "***** MEASUREMENTS\n",
      "[{'product': 'c_o3_no_z', 'measurement': 'c_o3', 'name': 'c_o3', 'dtype': 'float64', 'units': 'ppb', 'nodata': -9999, 'aliases': ['c_O3']}]\n",
      "\n",
      "***** RESULTS\n",
      "<xarray.Dataset>\n",
      "Dimensions:      (time: 1, y: 59, x: 61)\n",
      "Coordinates:\n",
      "  * time         (time) datetime64[ns] 2015-04-10T13:30:00\n",
      "  * y            (y) float64 4.943e+06 4.947e+06 ... 5.171e+06 5.175e+06\n",
      "  * x            (x) float64 4.57e+05 4.61e+05 4.65e+05 ... 6.93e+05 6.97e+05\n",
      "    spatial_ref  int32 32632\n",
      "Data variables:\n",
      "    c_O3         (time, y, x) float64 51.0 48.85 49.9 ... 53.31 51.94 46.91\n",
      "Attributes:\n",
      "    crs:           EPSG:32632\n",
      "    grid_mapping:  spatial_ref\n"
     ]
    }
   ],
   "source": [
    "import datacube\n",
    "from datacube.api.query import Query, query_group_by, query_geopolygon\n",
    "\n",
    "dc = datacube.Datacube(app=\"arpa_analysis\")\n",
    "\n",
    "query = Query(product='c_o3_no_z', time=('2015-04-10T02:00:00', '2015-04-11T01:00:00'))\n",
    "#query = Query(product='c_o3_no_z')\n",
    "\n",
    "datasets = dc.find_datasets(**query.search_terms)\n",
    "print('\\n***** DATASETS')\n",
    "print(datasets)\n",
    "\n",
    "ds = datasets[0]\n",
    "print('\\n***** MY DATASET')\n",
    "print(ds)\n",
    "\n",
    "products = dc.list_products(False, True)\n",
    "print('\\n***** PRODUCTS')\n",
    "print(products)\n",
    "\n",
    "measurements = dc.list_measurements(True, False)\n",
    "print('\\n***** MEASUREMENTS')\n",
    "print(measurements)\n",
    "\n",
    "\n",
    "\n",
    "result = dc.load(product='c_o3_no_z',\n",
    "        measurements=['c_O3'],\n",
    "        align=(1000.0, 3000.0)\n",
    "        )\n",
    "print('\\n***** RESULTS')\n",
    "print(result)\n",
    "\n",
    "dc.close()"
   ]
  },
  {
   "cell_type": "code",
   "execution_count": null,
   "id": "f039f6ec",
   "metadata": {},
   "outputs": [],
   "source": []
  },
  {
   "cell_type": "code",
   "execution_count": null,
   "id": "cb22d79f",
   "metadata": {},
   "outputs": [],
   "source": []
  }
 ],
 "metadata": {
  "kernelspec": {
   "display_name": "Python 3 (ipykernel)",
   "language": "python",
   "name": "python3"
  },
  "language_info": {
   "codemirror_mode": {
    "name": "ipython",
    "version": 3
   },
   "file_extension": ".py",
   "mimetype": "text/x-python",
   "name": "python",
   "nbconvert_exporter": "python",
   "pygments_lexer": "ipython3",
   "version": "3.8.13"
  }
 },
 "nbformat": 4,
 "nbformat_minor": 5
}
